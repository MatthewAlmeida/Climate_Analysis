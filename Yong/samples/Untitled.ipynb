{
 "cells": [
  {
   "cell_type": "code",
   "execution_count": 1,
   "metadata": {},
   "outputs": [],
   "source": [
    "import tensorflow as tf"
   ]
  },
  {
   "cell_type": "code",
   "execution_count": 2,
   "metadata": {},
   "outputs": [
    {
     "name": "stdout",
     "output_type": "stream",
     "text": [
      "hello, tensorflow!\n"
     ]
    }
   ],
   "source": [
    "hello = tf.constant('hello, tensorflow!')\n",
    "sess = tf.Session()\n",
    "print(sess.run(hello))"
   ]
  },
  {
   "cell_type": "code",
   "execution_count": 3,
   "metadata": {},
   "outputs": [
    {
     "data": {
      "text/plain": [
       "'1.10.1'"
      ]
     },
     "execution_count": 3,
     "metadata": {},
     "output_type": "execute_result"
    }
   ],
   "source": [
    "tf.__version__"
   ]
  },
  {
   "cell_type": "code",
   "execution_count": 4,
   "metadata": {},
   "outputs": [
    {
     "name": "stderr",
     "output_type": "stream",
     "text": [
      "Using TensorFlow backend.\n"
     ]
    },
    {
     "name": "stdout",
     "output_type": "stream",
     "text": [
      "Epoch 1/10\n",
      "100/100 [==============================] - 3s 31ms/step - loss: 2.3506\n",
      "Epoch 2/10\n",
      "100/100 [==============================] - 0s 729us/step - loss: 2.3510\n",
      "Epoch 3/10\n",
      "100/100 [==============================] - 0s 718us/step - loss: 2.3027\n",
      "Epoch 4/10\n",
      "100/100 [==============================] - 0s 750us/step - loss: 2.2980\n",
      "Epoch 5/10\n",
      "100/100 [==============================] - 0s 714us/step - loss: 2.2947\n",
      "Epoch 6/10\n",
      "100/100 [==============================] - 0s 703us/step - loss: 2.2805\n",
      "Epoch 7/10\n",
      "100/100 [==============================] - 0s 704us/step - loss: 2.2780\n",
      "Epoch 8/10\n",
      "100/100 [==============================] - 0s 769us/step - loss: 2.2610\n",
      "Epoch 9/10\n",
      "100/100 [==============================] - 0s 717us/step - loss: 2.2810\n",
      "Epoch 10/10\n",
      "100/100 [==============================] - 0s 673us/step - loss: 2.2829\n",
      "20/20 [==============================] - 0s 8ms/step\n"
     ]
    }
   ],
   "source": [
    "import numpy as np\n",
    "import keras\n",
    "from keras.models import Sequential\n",
    "from keras.layers import Dense, Dropout, Flatten\n",
    "from keras.layers import Conv2D, MaxPooling2D\n",
    "from keras.optimizers import SGD\n",
    "\n",
    "# Generate dummy data\n",
    "x_train = np.random.random((100, 100, 100, 3))\n",
    "y_train = keras.utils.to_categorical(np.random.randint(10, size=(100, 1)), num_classes=10)\n",
    "x_test = np.random.random((20, 100, 100, 3))\n",
    "y_test = keras.utils.to_categorical(np.random.randint(10, size=(20, 1)), num_classes=10)\n",
    "\n",
    "model = Sequential()\n",
    "# input: 100x100 images with 3 channels -> (100, 100, 3) tensors.\n",
    "# this applies 32 convolution filters of size 3x3 each.\n",
    "model.add(Conv2D(32, (3, 3), activation='relu', input_shape=(100, 100, 3)))\n",
    "model.add(Conv2D(32, (3, 3), activation='relu'))\n",
    "model.add(MaxPooling2D(pool_size=(2, 2)))\n",
    "model.add(Dropout(0.25))\n",
    "\n",
    "model.add(Conv2D(64, (3, 3), activation='relu'))\n",
    "model.add(Conv2D(64, (3, 3), activation='relu'))\n",
    "model.add(MaxPooling2D(pool_size=(2, 2)))\n",
    "model.add(Dropout(0.25))\n",
    "\n",
    "model.add(Flatten())\n",
    "model.add(Dense(256, activation='relu'))\n",
    "model.add(Dropout(0.5))\n",
    "model.add(Dense(10, activation='softmax'))\n",
    "\n",
    "sgd = SGD(lr=0.01, decay=1e-6, momentum=0.9, nesterov=True)\n",
    "model.compile(loss='categorical_crossentropy', optimizer=sgd)\n",
    "\n",
    "model.fit(x_train, y_train, batch_size=32, epochs=10)\n",
    "score = model.evaluate(x_test, y_test, batch_size=32)"
   ]
  },
  {
   "cell_type": "code",
   "execution_count": 29,
   "metadata": {},
   "outputs": [
    {
     "name": "stdout",
     "output_type": "stream",
     "text": [
      "Epoch 1/20\n",
      "1000/1000 [==============================] - 1s 725us/step - loss: 2.9694 - acc: 0.4770\n",
      "Epoch 2/20\n",
      "1000/1000 [==============================] - 0s 39us/step - loss: 2.0837 - acc: 0.4890\n",
      "Epoch 3/20\n",
      "1000/1000 [==============================] - 0s 36us/step - loss: 1.8157 - acc: 0.5100\n",
      "Epoch 4/20\n",
      "1000/1000 [==============================] - 0s 33us/step - loss: 1.6111 - acc: 0.4990\n",
      "Epoch 5/20\n",
      "1000/1000 [==============================] - 0s 27us/step - loss: 1.3881 - acc: 0.4870\n",
      "Epoch 6/20\n",
      "1000/1000 [==============================] - 0s 26us/step - loss: 1.1446 - acc: 0.5040\n",
      "Epoch 7/20\n",
      "1000/1000 [==============================] - 0s 33us/step - loss: 0.9902 - acc: 0.5210\n",
      "Epoch 8/20\n",
      "1000/1000 [==============================] - 0s 28us/step - loss: 0.9299 - acc: 0.5140\n",
      "Epoch 9/20\n",
      "1000/1000 [==============================] - 0s 28us/step - loss: 0.8634 - acc: 0.5110\n",
      "Epoch 10/20\n",
      "1000/1000 [==============================] - 0s 27us/step - loss: 0.8504 - acc: 0.5080\n",
      "Epoch 11/20\n",
      "1000/1000 [==============================] - 0s 27us/step - loss: 0.7558 - acc: 0.5420\n",
      "Epoch 12/20\n",
      "1000/1000 [==============================] - 0s 31us/step - loss: 0.7912 - acc: 0.4940\n",
      "Epoch 13/20\n",
      "1000/1000 [==============================] - 0s 26us/step - loss: 0.7524 - acc: 0.4880\n",
      "Epoch 14/20\n",
      "1000/1000 [==============================] - 0s 21us/step - loss: 0.7218 - acc: 0.5290\n",
      "Epoch 15/20\n",
      "1000/1000 [==============================] - 0s 23us/step - loss: 0.7395 - acc: 0.4910\n",
      "Epoch 16/20\n",
      "1000/1000 [==============================] - 0s 35us/step - loss: 0.7397 - acc: 0.5100\n",
      "Epoch 17/20\n",
      "1000/1000 [==============================] - 0s 23us/step - loss: 0.7263 - acc: 0.5300\n",
      "Epoch 18/20\n",
      "1000/1000 [==============================] - 0s 24us/step - loss: 0.7190 - acc: 0.5240\n",
      "Epoch 19/20\n",
      "1000/1000 [==============================] - 0s 28us/step - loss: 0.7068 - acc: 0.5200\n",
      "Epoch 20/20\n",
      "1000/1000 [==============================] - 0s 28us/step - loss: 0.7111 - acc: 0.5450\n",
      "100/100 [==============================] - 0s 2ms/step\n"
     ]
    }
   ],
   "source": [
    "import numpy as np\n",
    "from keras.models import Sequential\n",
    "from keras.layers import Dense, Dropout\n",
    "\n",
    "# Generate dummy data\n",
    "x_train = np.random.random((1000, 20))\n",
    "y_train = np.random.randint(2, size=(1000, 1))\n",
    "x_test = np.random.random((100, 20))\n",
    "y_test = np.random.randint(2, size=(100, 1))\n",
    "\n",
    "w1=[np.random.rand(20,64)]\n",
    "\n",
    "d1 = Dense(64, input_dim=20, use_bias=False, activation='relu')\n",
    "\n",
    "\n",
    "model = Sequential()\n",
    "model.add(d1)\n",
    "model.add(Dropout(0.5))\n",
    "model.add(Dense(64, activation='relu'))\n",
    "model.add(Dropout(0.5))\n",
    "model.add(Dense(1, activation='sigmoid'))\n",
    "\n",
    "model.compile(loss='binary_crossentropy',\n",
    "              optimizer='rmsprop',\n",
    "              metrics=['accuracy'])\n",
    "\n",
    "d1.set_weights(w1)\n",
    "\n",
    "model.fit(x_train, y_train,\n",
    "          epochs=20,\n",
    "          batch_size=128)\n",
    "score = model.evaluate(x_test, y_test, batch_size=128)"
   ]
  },
  {
   "cell_type": "code",
   "execution_count": null,
   "metadata": {},
   "outputs": [],
   "source": []
  }
 ],
 "metadata": {
  "kernelspec": {
   "display_name": "Python 2",
   "language": "python",
   "name": "python2"
  },
  "language_info": {
   "codemirror_mode": {
    "name": "ipython",
    "version": 2
   },
   "file_extension": ".py",
   "mimetype": "text/x-python",
   "name": "python",
   "nbconvert_exporter": "python",
   "pygments_lexer": "ipython2",
   "version": "2.7.12"
  }
 },
 "nbformat": 4,
 "nbformat_minor": 2
}
